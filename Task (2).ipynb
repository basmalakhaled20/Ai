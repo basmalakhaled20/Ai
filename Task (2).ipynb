{
  "nbformat": 4,
  "nbformat_minor": 0,
  "metadata": {
    "colab": {
      "provenance": []
    },
    "kernelspec": {
      "name": "python3",
      "display_name": "Python 3"
    },
    "language_info": {
      "name": "python"
    }
  },
  "cells": [
    {
      "cell_type": "markdown",
      "source": [
        "# **WAP to enter a number from user and print its absolute value.**"
      ],
      "metadata": {
        "id": "-kEImm3oSXWW"
      }
    },
    {
      "cell_type": "code",
      "source": [
        "num = int(input(\"Enter the number: \"))\n",
        "if num < 0:\n",
        "    print(\"The absolute value for\", num, \"is\", -num)\n",
        "else:\n",
        "    print(\"The absolute value for\", num, \"is\", num)"
      ],
      "metadata": {
        "colab": {
          "base_uri": "https://localhost:8080/"
        },
        "id": "rkvLlAd-SXJS",
        "outputId": "4b0a4639-806c-4533-f0af-f360c8c6af9e"
      },
      "execution_count": 4,
      "outputs": [
        {
          "output_type": "stream",
          "name": "stdout",
          "text": [
            "Enter the number: -4\n",
            "The absolute value for -4 is 4\n"
          ]
        }
      ]
    },
    {
      "cell_type": "markdown",
      "source": [
        "## **WAP to enter a year from user and check if it is leap year or not**"
      ],
      "metadata": {
        "id": "EZ44l343TuIE"
      }
    },
    {
      "cell_type": "code",
      "source": [
        "year = int(input(\"Enter the year: \"))\n",
        "if year %4== 0 and year % 100 != 0:\n",
        "            print(year, \"is a leap year\")\n",
        "elif year %400 == 0 :\n",
        "            print(year, \"is a leap year\")\n",
        "else:\n",
        "            print(year, \"is not a leap year\")"
      ],
      "metadata": {
        "colab": {
          "base_uri": "https://localhost:8080/"
        },
        "id": "20o1ORJRTtoy",
        "outputId": "6d8ed73b-88ae-4fe2-9679-59e886d54af6"
      },
      "execution_count": 16,
      "outputs": [
        {
          "output_type": "stream",
          "name": "stdout",
          "text": [
            "Enter the year: 2024\n",
            "2024 is a leap year\n"
          ]
        }
      ]
    },
    {
      "cell_type": "markdown",
      "source": [
        "## **WAP to enter the age of 3 person and print oldest and yougest among them**"
      ],
      "metadata": {
        "id": "wFqCJO6gX2IZ"
      }
    },
    {
      "cell_type": "code",
      "source": [
        "person_1 = int(input(\"Enter the age of person 1: \"))\n",
        "person_2 = int(input(\"Enter the age of person 2: \"))\n",
        "person_3 = int(input(\"Enter the age of person 3: \"))\n",
        "if person_1 > person_2 and person_1 > person_3:\n",
        "    print(\"Person 1 is the oldest\")\n",
        "elif person_2 > person_1 and person_2 > person_3:\n",
        "    print(\"Person 2 is the oldest\")\n",
        "elif person_3 > person_2 and person_2 > person_1:\n",
        "    print(\"Person 3 is the oldest\")\n",
        "\n",
        "if person_1 < person_2 and person_1 < person_3:\n",
        "    print(\"Person 1 is the yougest\")\n",
        "elif person_2 < person_1 and person_2 < person_3:\n",
        "    print(\"Person 2 is the yougest\")\n",
        "elif person_3 < person_2 and person_2 < person_1:\n",
        "    print(\"Person 3 is the yougest\")"
      ],
      "metadata": {
        "colab": {
          "base_uri": "https://localhost:8080/"
        },
        "id": "UjM9v18nalOW",
        "outputId": "6cda85e9-a286-420e-d321-844e5f99c1e5"
      },
      "execution_count": 20,
      "outputs": [
        {
          "output_type": "stream",
          "name": "stdout",
          "text": [
            "Enter the age of person 1: 20\n",
            "Enter the age of person 2: 40\n",
            "Enter the age of person 3: 30\n",
            "Person 2 is the oldest\n",
            "Person 1 is the yougest\n"
          ]
        }
      ]
    },
    {
      "cell_type": "markdown",
      "source": [
        "# **Write a program that asks the user to enter a series of numbers. The program should ask for numbers until the user enters a negative number. Once the user enters a negative number, the program should stop and print the sum of all the positive numbers entered**"
      ],
      "metadata": {
        "id": "vQarh0qNathj"
      }
    },
    {
      "cell_type": "code",
      "source": [
        "num = int(input(\"Enter the range of numbers: \"))\n",
        "\n",
        "if num < 0:\n",
        "    print(\"Please Enter the positive range.\")\n",
        "else:\n",
        "    sum = 0\n",
        "    for i in range(num):\n",
        "        number = int(input(\"Enter the number: \"))\n",
        "        if number < 0:\n",
        "            break\n",
        "        elif number > 0:\n",
        "            sum += number\n",
        "\n",
        "    print(\"The sum of positive numbers is:\", sum)\n"
      ],
      "metadata": {
        "colab": {
          "base_uri": "https://localhost:8080/"
        },
        "id": "P25DSgCfardz",
        "outputId": "30206456-ab70-4ed4-8cc5-7046ea832f12"
      },
      "execution_count": 26,
      "outputs": [
        {
          "output_type": "stream",
          "name": "stdout",
          "text": [
            "Enter the range of numbers: 5\n",
            "Enter the number: 3\n",
            "Enter the number: 2\n",
            "Enter the number: 1\n",
            "Enter the number: 4\n",
            "Enter the number: -2\n",
            "The sum of positive numbers is: 10\n"
          ]
        }
      ]
    },
    {
      "cell_type": "markdown",
      "source": [
        "# **Write a program that asks the user to enter their name and age. The program should check if the user's age is greater than or equal to 18. If it is, the program should print a message saying they are eligible to vote. Otherwise, the program should print a message saying they are not eligible to vote due to being underag**"
      ],
      "metadata": {
        "id": "9d0JtsJMgDlG"
      }
    },
    {
      "cell_type": "code",
      "source": [
        "your_name = input(\"Enter your name: \")\n",
        "your_age = int(input(\"Enter your age: \"))\n",
        "if your_age >= 18:\n",
        "    print(\"You are eligible to vote\")\n",
        "else:\n",
        "    print(\"You are not eligible to vote\")"
      ],
      "metadata": {
        "colab": {
          "base_uri": "https://localhost:8080/"
        },
        "id": "yAsE6hxBfy4T",
        "outputId": "0d868777-a776-4064-9a49-bbe00f5bcdfe"
      },
      "execution_count": 29,
      "outputs": [
        {
          "output_type": "stream",
          "name": "stdout",
          "text": [
            "Enter your name: Basmala\n",
            "Enter your age: 21\n",
            "You are eligible to vote\n"
          ]
        }
      ]
    },
    {
      "cell_type": "markdown",
      "source": [
        "# **Write a Python Program to Find the Factorial of a Number**"
      ],
      "metadata": {
        "id": "HTKl6_lTguf7"
      }
    },
    {
      "cell_type": "code",
      "source": [
        "num=int(input(\"Enter the number: \"))\n",
        "factorial=1\n",
        "if num == 0:\n",
        "    print(\"The factorial of 0 is 1\")\n",
        "else:\n",
        "    for i in range(1 ,num + 1):\n",
        "        factorial = factorial*i\n",
        "    print(\"The factorial of\",num,\"is\",factorial)"
      ],
      "metadata": {
        "colab": {
          "base_uri": "https://localhost:8080/"
        },
        "id": "vAio8Z1TjsZG",
        "outputId": "ef32d9a3-f582-420b-ff1e-4a75702f23f4"
      },
      "execution_count": 38,
      "outputs": [
        {
          "output_type": "stream",
          "name": "stdout",
          "text": [
            "Enter the number: 4\n",
            "The factorial of 4 is 24\n"
          ]
        }
      ]
    }
  ]
}
