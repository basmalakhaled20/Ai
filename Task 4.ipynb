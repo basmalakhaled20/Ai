{
  "nbformat": 4,
  "nbformat_minor": 0,
  "metadata": {
    "colab": {
      "provenance": []
    },
    "kernelspec": {
      "name": "python3",
      "display_name": "Python 3"
    },
    "language_info": {
      "name": "python"
    }
  },
  "cells": [
    {
      "cell_type": "markdown",
      "source": [
        "## **1-Write a Python program to calculate the length of a string using 2 ways"
      ],
      "metadata": {
        "id": "OH7Ud4DSNaWO"
      }
    },
    {
      "cell_type": "code",
      "execution_count": null,
      "metadata": {
        "colab": {
          "base_uri": "https://localhost:8080/"
        },
        "id": "LsbBrNF5NY16",
        "outputId": "0db86c02-7749-4cbe-b4ae-67762ca4d62d"
      },
      "outputs": [
        {
          "output_type": "stream",
          "name": "stdout",
          "text": [
            " len =  7\n"
          ]
        }
      ],
      "source": [
        "def string_length(str):\n",
        "    count = 0\n",
        "    for char in str:\n",
        "        count += 1\n",
        "    return count\n",
        "print(' len = ',string_length('Basmala'))"
      ]
    },
    {
      "cell_type": "code",
      "source": [
        "string = input(\"Enter your string : \")\n",
        "def string_length1(string):\n",
        "    return len(string)\n",
        "string_length1(string)"
      ],
      "metadata": {
        "colab": {
          "base_uri": "https://localhost:8080/"
        },
        "id": "-Clw0KrDPNIW",
        "outputId": "169ef91f-606a-4326-bc10-19d0fab052fe"
      },
      "execution_count": null,
      "outputs": [
        {
          "name": "stdout",
          "output_type": "stream",
          "text": [
            "Enter your string : basmala\n"
          ]
        },
        {
          "output_type": "execute_result",
          "data": {
            "text/plain": [
              "7"
            ]
          },
          "metadata": {},
          "execution_count": 12
        }
      ]
    },
    {
      "cell_type": "markdown",
      "source": [
        "*2-Write a Python program to get a string made of the first 2 and last 2 characters of a given string. If the string length is less than 2, return the empty string instead (\"##Sample String : 'w3resource' Expected Result : 'w3ce'\n"
      ],
      "metadata": {
        "id": "kdzAKacMQoPS"
      }
    },
    {
      "cell_type": "code",
      "source": [
        "text = input(\"Enter a string: \")\n",
        "if len(text) < 2:\n",
        "    result = \"\"\n",
        "else:\n",
        "    result = text[:2] + text[-2:]\n",
        "\n",
        "print(\"your string: \",text)\n",
        "print(\"Result: \",result)"
      ],
      "metadata": {
        "colab": {
          "base_uri": "https://localhost:8080/"
        },
        "id": "pE3QOMXAQriM",
        "outputId": "0496f9f3-a767-45c9-abb6-c43a23d8d056"
      },
      "execution_count": null,
      "outputs": [
        {
          "output_type": "stream",
          "name": "stdout",
          "text": [
            "Enter a string: basmala\n",
            "your string:  basmala\n",
            "Result:  bala\n"
          ]
        }
      ]
    },
    {
      "cell_type": "markdown",
      "source": [
        "**3-Write a Python program to add 'ing' at the end of a given string (length should be at least 3). If the given string already ends with 'ing', add 'ly' instead. If the string length of the given string is less than 3, leave it unchanged. (Sample String : 'abc' Expected Result : 'abcing')"
      ],
      "metadata": {
        "id": "gX-a6MMnWFxw"
      }
    },
    {
      "cell_type": "code",
      "source": [
        "Str = input(\"Enter your string: \")\n",
        "if len(Str) >= 3:\n",
        "  if Str.endswith(\"ing\"):\n",
        "    Str = Str[:-3] + \"ly\"\n",
        "  else:\n",
        "    Str += \"ing\"\n",
        "\n",
        "print(Str)"
      ],
      "metadata": {
        "colab": {
          "base_uri": "https://localhost:8080/"
        },
        "id": "e3TunoFdWbFt",
        "outputId": "238463c8-e384-486e-ceff-e93e788392e8"
      },
      "execution_count": null,
      "outputs": [
        {
          "output_type": "stream",
          "name": "stdout",
          "text": [
            "Enter your string: play\n",
            "playing\n"
          ]
        }
      ]
    },
    {
      "cell_type": "markdown",
      "source": [
        "**4-Write a Python function that takes a list of words and return the longest word and the length of the longest one (Longest word: Exercises Length of the longest word: 9)"
      ],
      "metadata": {
        "id": "o4pk24pCW6tx"
      }
    },
    {
      "cell_type": "code",
      "source": [
        "def longest_word(words):\n",
        "    longest_word = \"\"\n",
        "    max = 0\n",
        "    for word in words:\n",
        "        if len(word) > max:\n",
        "            longest_word = word\n",
        "            max = len(word)\n",
        "    return longest_word, max\n",
        "words = input(\"Enter a list of words: \").split()\n",
        "longest, length = longest_word(words)\n",
        "longest_word(words)"
      ],
      "metadata": {
        "colab": {
          "base_uri": "https://localhost:8080/"
        },
        "id": "fK2UM3xiX0Vu",
        "outputId": "e66b4a6c-ca69-4257-f7e0-9347b32c855b"
      },
      "execution_count": null,
      "outputs": [
        {
          "name": "stdout",
          "output_type": "stream",
          "text": [
            "Enter a list of words: basmala khaled elsaeed wehady\n"
          ]
        },
        {
          "output_type": "execute_result",
          "data": {
            "text/plain": [
              "('basmala', 7)"
            ]
          },
          "metadata": {},
          "execution_count": 29
        }
      ]
    },
    {
      "cell_type": "markdown",
      "source": [
        "**5-Write a Python program to change a given string to a newly string where the first and last chars have been exchanged using 2 ways (Sample String:abca Expected Result:ebce)"
      ],
      "metadata": {
        "id": "ft9NWmGFb2t1"
      }
    },
    {
      "cell_type": "code",
      "source": [
        "string = input(\"Enter your string: \")\n",
        "def change(string):\n",
        "  new_string = string[-1] + string[1:-1] + string[0]\n",
        "  return new_string\n",
        "change(string)"
      ],
      "metadata": {
        "colab": {
          "base_uri": "https://localhost:8080/",
          "height": 53
        },
        "id": "ucERcY5vb1gF",
        "outputId": "e80f0b3f-e0a1-4391-a831-9341353e3bba"
      },
      "execution_count": null,
      "outputs": [
        {
          "name": "stdout",
          "output_type": "stream",
          "text": [
            "Enter your string: basmala\n"
          ]
        },
        {
          "output_type": "execute_result",
          "data": {
            "text/plain": [
              "'aasmalb'"
            ],
            "application/vnd.google.colaboratory.intrinsic+json": {
              "type": "string"
            }
          },
          "metadata": {},
          "execution_count": 30
        }
      ]
    },
    {
      "cell_type": "code",
      "source": [
        "string = input(\"Enter your string: \")\n",
        "def change(string):\n",
        "    string_list = list(string)\n",
        "    string_list[0], string_list[-1] = string_list[-1], string_list[0]\n",
        "    return ''.join(string_list)\n",
        "\n",
        "new_string = change(string)\n",
        "\n",
        "print( \"string: \",string)\n",
        "print( \"new: \",new_string)"
      ],
      "metadata": {
        "colab": {
          "base_uri": "https://localhost:8080/"
        },
        "id": "crPZ--Ayd8n-",
        "outputId": "7d3878bc-d855-46ab-f219-3ac94a5d8a7d"
      },
      "execution_count": null,
      "outputs": [
        {
          "output_type": "stream",
          "name": "stdout",
          "text": [
            "Enter your string: khaled\n",
            "string:  khaled\n",
            "new:  dhalek\n"
          ]
        }
      ]
    },
    {
      "cell_type": "markdown",
      "source": [
        "**6-Write a Python program to remove characters that have odd index values in a given string (Sample String:abca Expected Result:ac)"
      ],
      "metadata": {
        "id": "KMCMM-0NSzbu"
      }
    },
    {
      "cell_type": "code",
      "source": [
        "string = input(\"Enter your string: \")\n",
        "def Remove(string):\n",
        "    result = \"\"\n",
        "    for i in range(len(string)):\n",
        "        if i % 2 == 0:\n",
        "            result += string[i]\n",
        "    return result\n",
        "Remove(string)"
      ],
      "metadata": {
        "colab": {
          "base_uri": "https://localhost:8080/",
          "height": 53
        },
        "id": "4H8QIUIaSpgr",
        "outputId": "daa6bcc9-7927-4cab-8b88-6f32fbd134d9"
      },
      "execution_count": null,
      "outputs": [
        {
          "name": "stdout",
          "output_type": "stream",
          "text": [
            "Enter your string: basmala\n"
          ]
        },
        {
          "output_type": "execute_result",
          "data": {
            "text/plain": [
              "'bsaa'"
            ],
            "application/vnd.google.colaboratory.intrinsic+json": {
              "type": "string"
            }
          },
          "metadata": {},
          "execution_count": 1
        }
      ]
    },
    {
      "cell_type": "markdown",
      "source": [],
      "metadata": {
        "id": "UrQf8zW0hi2i"
      }
    },
    {
      "cell_type": "markdown",
      "source": [
        "**7-Write a Python program to count the occurrences of each word in a given sentence (Sample String:amr and ahmed are frindes but amr is the tallest Expected Result:2)"
      ],
      "metadata": {
        "id": "6nG85BKZTqPt"
      }
    },
    {
      "cell_type": "code",
      "source": [
        "sentence = \"amr and ahmed are frindes but amr is the tallest\"\n",
        "words = sentence.split()\n",
        "count = {}\n",
        "for word in words:\n",
        "    if word in count:\n",
        "        count[word] += 1\n",
        "    else:\n",
        "       count[word] = 1\n",
        "for word, count in count.items():\n",
        "    print(word, count)"
      ],
      "metadata": {
        "colab": {
          "base_uri": "https://localhost:8080/"
        },
        "id": "HefDtG5PU6Yp",
        "outputId": "5fd27b30-e950-4ab8-df09-a30d2235c6ba"
      },
      "execution_count": null,
      "outputs": [
        {
          "output_type": "stream",
          "name": "stdout",
          "text": [
            "amr 2\n",
            "and 1\n",
            "ahmed 1\n",
            "are 1\n",
            "frindes 1\n",
            "but 1\n",
            "is 1\n",
            "the 1\n",
            "tallest 1\n"
          ]
        }
      ]
    },
    {
      "cell_type": "markdown",
      "source": [
        "**8-Write a Python script that takes input from the user and displays that input back in upper and lower cases\n"
      ],
      "metadata": {
        "id": "3WehOKBWU9hH"
      }
    },
    {
      "cell_type": "code",
      "source": [
        "sring = input(\"Enter a string: \")\n",
        "print(\"Uppercase:\", sring.upper())\n",
        "print(\"Lowercase:\", sring.lower())"
      ],
      "metadata": {
        "colab": {
          "base_uri": "https://localhost:8080/"
        },
        "id": "Bikm2iZ9U9ND",
        "outputId": "da64793a-5d57-45fc-bbff-e8f9ff37ae79"
      },
      "execution_count": null,
      "outputs": [
        {
          "output_type": "stream",
          "name": "stdout",
          "text": [
            "Enter a string: basmala \n",
            "Uppercase: BASMALA \n",
            "Lowercase: basmala \n"
          ]
        }
      ]
    },
    {
      "cell_type": "markdown",
      "source": [
        "-Write a Python function to reverse a string if its length is a multiple of 4"
      ],
      "metadata": {
        "id": "Rw4RBpKyVbWF"
      }
    },
    {
      "cell_type": "code",
      "source": [
        "string = input(\"Enter a string: \")\n",
        "def reverse_string(string):\n",
        "    if len(string) % 4 == 0:\n",
        "        return string[::-1]\n",
        "    else:\n",
        "        return string\n",
        "reverse_string(string)"
      ],
      "metadata": {
        "colab": {
          "base_uri": "https://localhost:8080/",
          "height": 53
        },
        "id": "-ZGyQXqvVaex",
        "outputId": "fef466cf-0c69-4040-848c-1e8d0b27fc45"
      },
      "execution_count": null,
      "outputs": [
        {
          "name": "stdout",
          "output_type": "stream",
          "text": [
            "Enter a string: baba\n"
          ]
        },
        {
          "output_type": "execute_result",
          "data": {
            "text/plain": [
              "'abab'"
            ],
            "application/vnd.google.colaboratory.intrinsic+json": {
              "type": "string"
            }
          },
          "metadata": {},
          "execution_count": 8
        }
      ]
    },
    {
      "cell_type": "markdown",
      "source": [
        "**10- Write a Python program to remove a newline in Python\n"
      ],
      "metadata": {
        "id": "gmnlbr5QV8ac"
      }
    },
    {
      "cell_type": "code",
      "source": [
        "string = \"Basmala \\n khaled\"\n",
        "print(string)\n",
        "string.replace(\"\\n\", \"\")"
      ],
      "metadata": {
        "colab": {
          "base_uri": "https://localhost:8080/",
          "height": 70
        },
        "id": "-ogVH6mWV4vE",
        "outputId": "4e49de03-523b-49e2-c05f-2fcba9c74df3"
      },
      "execution_count": null,
      "outputs": [
        {
          "output_type": "stream",
          "name": "stdout",
          "text": [
            "Basmala \n",
            " khaled\n"
          ]
        },
        {
          "output_type": "execute_result",
          "data": {
            "text/plain": [
              "'Basmala  khaled'"
            ],
            "application/vnd.google.colaboratory.intrinsic+json": {
              "type": "string"
            }
          },
          "metadata": {},
          "execution_count": 15
        }
      ]
    },
    {
      "cell_type": "markdown",
      "source": [
        "**11-Write a Python program to check whether a string starts with specified characters"
      ],
      "metadata": {
        "id": "_Hs7ZcxuWe8u"
      }
    },
    {
      "cell_type": "code",
      "source": [
        "string = input(\"Enter a string: \")\n",
        "if string.startswith(\"B\"):\n",
        "    print(\"The string start with 'B'\")\n",
        "else:\n",
        "    print(\"The string doesn't start with 'B'\")"
      ],
      "metadata": {
        "colab": {
          "base_uri": "https://localhost:8080/"
        },
        "id": "D5_q0C-VWebx",
        "outputId": "4c10547f-1720-4db3-a6df-cf5e4ddf5685"
      },
      "execution_count": null,
      "outputs": [
        {
          "output_type": "stream",
          "name": "stdout",
          "text": [
            "Enter a string: Basmala\n",
            "The string start with 'B'\n"
          ]
        }
      ]
    },
    {
      "cell_type": "markdown",
      "source": [
        "**12- Write a Python program to add prefix text to all of the lines in a string"
      ],
      "metadata": {
        "id": "2_8Hgn2xXlTu"
      }
    },
    {
      "cell_type": "code",
      "source": [
        "string = \"Basmala\\nKhaled\\nalsaeed\"\n",
        "lines = string.splitlines()\n",
        "prefix = \">> \"\n",
        "result = \"\\n\".join(prefix + line for line in lines)\n",
        "print(result)\n"
      ],
      "metadata": {
        "colab": {
          "base_uri": "https://localhost:8080/"
        },
        "id": "97a9lK8iXfns",
        "outputId": "70b0ebd3-7181-46f0-c450-bedcc78a6d5b"
      },
      "execution_count": null,
      "outputs": [
        {
          "output_type": "stream",
          "name": "stdout",
          "text": [
            ">> Basmala\n",
            ">> Khaled\n",
            ">> alsaeed\n"
          ]
        }
      ]
    },
    {
      "cell_type": "markdown",
      "source": [
        "\n",
        "**13-Write a Python program to print the following numbers up to 2 decimal places\n"
      ],
      "metadata": {
        "id": "qLOfoYE_Yc-3"
      }
    },
    {
      "cell_type": "code",
      "source": [
        "num = [1.2345, 2.3456, 1.23456, 4.78910]\n",
        "for number in num:\n",
        "    print(f\"{num:.2f}\")\n"
      ],
      "metadata": {
        "colab": {
          "base_uri": "https://localhost:8080/"
        },
        "id": "frxx5sKmYjzk",
        "outputId": "e5818979-c9ed-4ae8-8ed4-d9487fafd92f"
      },
      "execution_count": null,
      "outputs": [
        {
          "output_type": "stream",
          "name": "stdout",
          "text": [
            "1.23\n",
            "2.35\n",
            "1.23\n",
            "4.79\n"
          ]
        }
      ]
    },
    {
      "cell_type": "markdown",
      "source": [
        "**14-Write a Python program to print the following numbers up to 2 decimal places with a sign\n"
      ],
      "metadata": {
        "id": "mZCX8sKwZHHk"
      }
    },
    {
      "cell_type": "code",
      "source": [
        "num = [1.2345, 2.3456, 1.23456, 4.78910]\n",
        "for num in num:\n",
        "    print(f\"{num:+.2f}\")\n"
      ],
      "metadata": {
        "colab": {
          "base_uri": "https://localhost:8080/"
        },
        "id": "BIwbWN-nZG1O",
        "outputId": "9a45c7a4-28fd-45d8-91d3-10fc21de7685"
      },
      "execution_count": null,
      "outputs": [
        {
          "output_type": "stream",
          "name": "stdout",
          "text": [
            "+1.23\n",
            "+2.35\n",
            "+1.23\n",
            "+4.79\n"
          ]
        }
      ]
    },
    {
      "cell_type": "markdown",
      "source": [
        "**15-Write a Python program to display a number with a comma separator"
      ],
      "metadata": {
        "id": "pLnQbrNoZjZg"
      }
    },
    {
      "cell_type": "code",
      "source": [
        "number = 1234567890\n",
        "print(f\"{number:,}\")"
      ],
      "metadata": {
        "colab": {
          "base_uri": "https://localhost:8080/"
        },
        "id": "V4-mwtzZZnvO",
        "outputId": "b2d5f2ea-30c0-4576-edb1-8431eb43daec"
      },
      "execution_count": null,
      "outputs": [
        {
          "output_type": "stream",
          "name": "stdout",
          "text": [
            "1,234,567,890\n"
          ]
        }
      ]
    },
    {
      "cell_type": "markdown",
      "source": [
        "**16-Write a Python program to reverse a string using 2 ways"
      ],
      "metadata": {
        "id": "fkY_3voQa6-y"
      }
    },
    {
      "cell_type": "code",
      "source": [
        "string = input(\"Enter your string: \")\n",
        "print(string[::-1])"
      ],
      "metadata": {
        "colab": {
          "base_uri": "https://localhost:8080/"
        },
        "id": "pwscDwTZa6km",
        "outputId": "b557cb54-b724-413e-825d-aa5acede188b"
      },
      "execution_count": null,
      "outputs": [
        {
          "output_type": "stream",
          "name": "stdout",
          "text": [
            "Enter your string: basmala \n",
            " alamsab\n"
          ]
        }
      ]
    },
    {
      "cell_type": "code",
      "source": [
        "string = input(\"Enter your string: \")\n",
        "def reverse_string(string):\n",
        "    return string[::-1]\n",
        "reverse_string(string)"
      ],
      "metadata": {
        "colab": {
          "base_uri": "https://localhost:8080/",
          "height": 53
        },
        "id": "0LQHpQv8bO5r",
        "outputId": "4f809485-9bdb-4e83-e307-fdbefc1f3837"
      },
      "execution_count": null,
      "outputs": [
        {
          "name": "stdout",
          "output_type": "stream",
          "text": [
            "Enter your string: basmala\n"
          ]
        },
        {
          "output_type": "execute_result",
          "data": {
            "text/plain": [
              "'alamsab'"
            ],
            "application/vnd.google.colaboratory.intrinsic+json": {
              "type": "string"
            }
          },
          "metadata": {},
          "execution_count": 26
        }
      ]
    },
    {
      "cell_type": "markdown",
      "source": [
        "\n",
        " **17-Write a Python program to count repeated characters in a string (hint:use dictionary)\n"
      ],
      "metadata": {
        "id": "GXdzcEX_bU2c"
      }
    },
    {
      "cell_type": "code",
      "source": [
        "string = input(\"Enter your string: \")\n",
        "count = {}\n",
        "for char in string:\n",
        "    if char in count:\n",
        "        count[char] += 1\n",
        "    else:\n",
        "        count[char] = 1\n",
        "for char, count in count.items():\n",
        "    if count > 1:\n",
        "        print(f\"'{char}': {count}\")"
      ],
      "metadata": {
        "colab": {
          "base_uri": "https://localhost:8080/"
        },
        "id": "sdoaNlERbUf6",
        "outputId": "d18546c0-10ef-41fb-bedc-3056924b32cf"
      },
      "execution_count": null,
      "outputs": [
        {
          "output_type": "stream",
          "name": "stdout",
          "text": [
            "Enter your string: basmala\n",
            "'a': 3\n"
          ]
        }
      ]
    },
    {
      "cell_type": "markdown",
      "source": [
        "**18-Write a Python program to find the first non-repeating character in a given string"
      ],
      "metadata": {
        "id": "5OwTLI4Ub8hF"
      }
    },
    {
      "cell_type": "code",
      "source": [
        "string = input(\"Enter your string: \")\n",
        "count = {}\n",
        "for char in string:\n",
        "    if char in count:\n",
        "        count[char] += 1\n",
        "    else:\n",
        "        count[char] = 1\n",
        "        if count[char] == 1:\n",
        "            print(char)\n",
        "            break"
      ],
      "metadata": {
        "colab": {
          "base_uri": "https://localhost:8080/"
        },
        "id": "Jn6p8swrb8RL",
        "outputId": "1362ee6c-ec9a-4906-9014-d37d27b531ef"
      },
      "execution_count": null,
      "outputs": [
        {
          "output_type": "stream",
          "name": "stdout",
          "text": [
            "Enter your string: basmala\n",
            "b\n"
          ]
        }
      ]
    },
    {
      "cell_type": "markdown",
      "source": [
        "**19-Write a Python program to remove spaces from a given string"
      ],
      "metadata": {
        "id": "-0LU26_GcKhK"
      }
    },
    {
      "cell_type": "code",
      "source": [
        "string = input(\"Enter your string: \")\n",
        "string.replace(\" \", \"\")"
      ],
      "metadata": {
        "colab": {
          "base_uri": "https://localhost:8080/",
          "height": 53
        },
        "id": "e9kMkaCzcO9c",
        "outputId": "e7f71113-23d2-473f-aba5-ed913538cfbc"
      },
      "execution_count": null,
      "outputs": [
        {
          "name": "stdout",
          "output_type": "stream",
          "text": [
            "Enter your string: basmala khaled\n"
          ]
        },
        {
          "output_type": "execute_result",
          "data": {
            "text/plain": [
              "'basmalakhaled'"
            ],
            "application/vnd.google.colaboratory.intrinsic+json": {
              "type": "string"
            }
          },
          "metadata": {},
          "execution_count": 34
        }
      ]
    },
    {
      "cell_type": "markdown",
      "source": [
        "**20-Write a Python program to count the number of non-empty substrings of a given string"
      ],
      "metadata": {
        "id": "yFduYCuJcWIY"
      }
    },
    {
      "cell_type": "code",
      "source": [
        "string = input(\"Enter your string: \")\n",
        "count = 0\n",
        "for i in range(len(string)):\n",
        "    for j in range(i, len(string)):\n",
        "        if string[i:j+1]:\n",
        "            count += 1\n",
        "print(count)"
      ],
      "metadata": {
        "colab": {
          "base_uri": "https://localhost:8080/"
        },
        "id": "EJiA2xetcVxI",
        "outputId": "2cc9e935-34d4-40aa-bb9e-1840888d72aa"
      },
      "execution_count": null,
      "outputs": [
        {
          "output_type": "stream",
          "name": "stdout",
          "text": [
            "Enter your string: basmala\n",
            "28\n"
          ]
        }
      ]
    },
    {
      "cell_type": "markdown",
      "source": [
        "**21-write a Python program to swap first and last element of any list.\n"
      ],
      "metadata": {
        "id": "Y7y8xSL2dRcR"
      }
    },
    {
      "cell_type": "code",
      "source": [
        "string = input(\"Enter your string: \")\n",
        "def change(string):\n",
        "  new_string = string[-1] + string[1:-1] + string[0]\n",
        "  return new_string\n",
        "change(string)"
      ],
      "metadata": {
        "colab": {
          "base_uri": "https://localhost:8080/",
          "height": 53
        },
        "id": "ysB7DVyIdRQK",
        "outputId": "1fc72a8d-ad75-46fa-a111-e049fa3a768f"
      },
      "execution_count": null,
      "outputs": [
        {
          "name": "stdout",
          "output_type": "stream",
          "text": [
            "Enter your string: basmala\n"
          ]
        },
        {
          "output_type": "execute_result",
          "data": {
            "text/plain": [
              "'aasmalb'"
            ],
            "application/vnd.google.colaboratory.intrinsic+json": {
              "type": "string"
            }
          },
          "metadata": {},
          "execution_count": 38
        }
      ]
    },
    {
      "cell_type": "markdown",
      "source": [
        "\n",
        "**22-Given a list in Python and provided the positions of the elements, write a program to swap the two elements in the list. (Input : List = [23, 65, 19, 90], pos1 = 1, pos2 = 3\n",
        "Output : [19, 65, 23, 90])"
      ],
      "metadata": {
        "id": "3aQDvtzAdvuO"
      }
    },
    {
      "cell_type": "code",
      "source": [
        "List = [23, 65, 19, 90]\n",
        "pos1 = int(input(\"Enter the first position: \"))\n",
        "pos2 = int(input(\"Enter the second position: \"))\n",
        "pos1 -= 1\n",
        "pos2 -= 1\n",
        "List[pos1], List[pos2] = List[pos2], List[pos1]\n",
        "print(List)"
      ],
      "metadata": {
        "colab": {
          "base_uri": "https://localhost:8080/"
        },
        "id": "Hmhvjb3Td_lb",
        "outputId": "d5e98391-a4ec-4811-d22d-d2704cfbae9d"
      },
      "execution_count": null,
      "outputs": [
        {
          "output_type": "stream",
          "name": "stdout",
          "text": [
            "Enter the first position: 1\n",
            "Enter the second position: 3\n",
            "[19, 65, 23, 90]\n"
          ]
        }
      ]
    },
    {
      "cell_type": "markdown",
      "source": [
        "*23- search for the all ways to know the length of the list"
      ],
      "metadata": {
        "id": "mYOO16EVguZz"
      }
    },
    {
      "cell_type": "code",
      "source": [
        "list = [10, 20, 30]\n",
        "length = len(list)\n",
        "print(length)"
      ],
      "metadata": {
        "colab": {
          "base_uri": "https://localhost:8080/"
        },
        "id": "46eBFcQCf9yt",
        "outputId": "2326a077-9e37-44e2-8806-bc121903e6eb"
      },
      "execution_count": null,
      "outputs": [
        {
          "output_type": "stream",
          "name": "stdout",
          "text": [
            "3\n"
          ]
        }
      ]
    },
    {
      "cell_type": "markdown",
      "source": [
        "**24-write a Python code to find the Maximum number of list of numbers"
      ],
      "metadata": {
        "id": "GMtEWdkbhsbW"
      }
    },
    {
      "cell_type": "code",
      "source": [
        "list = [10, 20, 30]\n",
        "max_num = max(list)\n",
        "print(max_num)"
      ],
      "metadata": {
        "colab": {
          "base_uri": "https://localhost:8080/"
        },
        "id": "XAcRi0UTht-q",
        "outputId": "1baf17db-6a0a-487e-ce8d-10886c515a02"
      },
      "execution_count": null,
      "outputs": [
        {
          "output_type": "stream",
          "name": "stdout",
          "text": [
            "30\n"
          ]
        }
      ]
    },
    {
      "cell_type": "markdown",
      "source": [
        "**25-write a Python code to find the Minimum number of list of numbers."
      ],
      "metadata": {
        "id": "f6dtUoDqhxct"
      }
    },
    {
      "cell_type": "code",
      "source": [
        "list = [10, 20, 30]\n",
        "min_num = min(list)\n",
        "print(min_num)"
      ],
      "metadata": {
        "colab": {
          "base_uri": "https://localhost:8080/"
        },
        "id": "e3q7pvi5h0bL",
        "outputId": "e43f165f-f252-46b8-894e-96f9a92b13b6"
      },
      "execution_count": null,
      "outputs": [
        {
          "output_type": "stream",
          "name": "stdout",
          "text": [
            "10\n"
          ]
        }
      ]
    },
    {
      "cell_type": "markdown",
      "source": [
        "**26-search for if an elem is existing in list"
      ],
      "metadata": {
        "id": "cj52oCVEh8D0"
      }
    },
    {
      "cell_type": "code",
      "source": [
        "list = [10, 20, 30]\n",
        "element = int(input(\"Enter the element to search for: \"))\n",
        "if element in list:\n",
        "    print(\"Element found\")\n",
        "else:\n",
        "    print(\"Element not found\")"
      ],
      "metadata": {
        "colab": {
          "base_uri": "https://localhost:8080/"
        },
        "id": "dJiKnZbah70V",
        "outputId": "69a8f2c1-6662-4036-bf86-962b0c101762"
      },
      "execution_count": null,
      "outputs": [
        {
          "output_type": "stream",
          "name": "stdout",
          "text": [
            "Enter the element to search for: 10\n",
            "Element found\n"
          ]
        }
      ]
    },
    {
      "cell_type": "markdown",
      "source": [
        "**27- clear python list using different ways"
      ],
      "metadata": {
        "id": "HXR3Rv-NiVDW"
      }
    },
    {
      "cell_type": "code",
      "source": [
        "list = [10, 20, 30]\n",
        "list.clear()\n",
        "print(list)"
      ],
      "metadata": {
        "colab": {
          "base_uri": "https://localhost:8080/"
        },
        "id": "ZcyCcSwpiblb",
        "outputId": "54578e4c-340d-4fdc-b6c3-2e8f71e926c9"
      },
      "execution_count": null,
      "outputs": [
        {
          "output_type": "stream",
          "name": "stdout",
          "text": [
            "[]\n"
          ]
        }
      ]
    },
    {
      "cell_type": "markdown",
      "source": [
        "**28-remove duplicated elements from a list\n"
      ],
      "metadata": {
        "id": "96uclT_rifhx"
      }
    },
    {
      "cell_type": "code",
      "source": [
        "my_list = [1, 2, 2, 3, 4, 4, 5]\n",
        "unique_list = []\n",
        "for item in my_list:\n",
        "    if item not in unique_list:\n",
        "        unique_list.append(item)\n",
        "print(unique_list)"
      ],
      "metadata": {
        "colab": {
          "base_uri": "https://localhost:8080/"
        },
        "id": "LNGnBAHekPyK",
        "outputId": "89d89e19-1233-44ec-fcc8-8166be1551ea"
      },
      "execution_count": null,
      "outputs": [
        {
          "output_type": "stream",
          "name": "stdout",
          "text": [
            "[1, 2, 3, 4, 5]\n"
          ]
        }
      ]
    },
    {
      "cell_type": "markdown",
      "source": [
        "**26-search for if an elem is existing in list"
      ],
      "metadata": {
        "id": "HXgLtykAkhy0"
      }
    },
    {
      "cell_type": "markdown",
      "source": [
        "**27- clear python list using different ways"
      ],
      "metadata": {
        "id": "-NpgAX5HiZG1"
      }
    },
    {
      "cell_type": "markdown",
      "source": [
        "**28-remove duplicated elements from a list"
      ],
      "metadata": {
        "id": "T0vDpLaQlTbO"
      }
    },
    {
      "cell_type": "markdown",
      "source": [
        "**29-Given list values and keys list, convert these values to key value pairs in form of list of dictionaries. (Input : test_list = [“Gfg”, 3, “is”, 8], key_list = [“name”, “id”] Output : [{‘name’: ‘Gfg’, ‘id’: 3}, {‘name’: ‘is’, ‘id’: 8}])"
      ],
      "metadata": {
        "id": "WMPIjmcqlfQm"
      }
    },
    {
      "cell_type": "code",
      "source": [
        "list = [\"Gfg\", 3, \"is\", 8]\n",
        "keys = [\"name\", \"id\"]\n",
        "result = []\n",
        "for i in range(0, len(list), len(keys)):\n",
        "    result.append(dict(zip(keys, list[i:i+len(keys)])))\n",
        "print(result)"
      ],
      "metadata": {
        "colab": {
          "base_uri": "https://localhost:8080/"
        },
        "id": "Uol4KzN4iUnu",
        "outputId": "9c03ff63-9437-422c-c518-bf44fb06e7ed"
      },
      "execution_count": null,
      "outputs": [
        {
          "output_type": "stream",
          "name": "stdout",
          "text": [
            "[{'name': 'Gfg', 'id': 3}, {'name': 'is', 'id': 8}]\n"
          ]
        }
      ]
    },
    {
      "cell_type": "markdown",
      "source": [
        "**30-write a python program to count unique values inside a list using different ways"
      ],
      "metadata": {
        "id": "enEANLV3l53i"
      }
    },
    {
      "cell_type": "code",
      "source": [
        "list = [1, 2, 2, 3, 4, 4, 5]\n",
        "unique_count = len(set(list))\n",
        "print(unique_count)"
      ],
      "metadata": {
        "colab": {
          "base_uri": "https://localhost:8080/"
        },
        "id": "P2qC84asl8Fe",
        "outputId": "6c2d255b-a123-40d7-9fd0-e74b4e0dd1ff"
      },
      "execution_count": null,
      "outputs": [
        {
          "output_type": "stream",
          "name": "stdout",
          "text": [
            "5\n"
          ]
        }
      ]
    },
    {
      "cell_type": "markdown",
      "source": [
        "**31-write a python program Extract all elements with Frequency greater than K (Input : test_list = [4, 6, 4, 3, 3, 4, 3, 4, 3, 8], K = 3\n"
      ],
      "metadata": {
        "id": "HiH33XDoJig0"
      }
    },
    {
      "cell_type": "code",
      "source": [
        "test_list = [4, 6, 4, 3, 3, 4, 3, 4, 3, 8]\n",
        "K = 3\n",
        "result = []\n",
        "for item in test_list:\n",
        "    if test_list.count(item) > K:\n",
        "        result.append(item)\n",
        "print(result)"
      ],
      "metadata": {
        "colab": {
          "base_uri": "https://localhost:8080/"
        },
        "id": "H0XgkdKcJhtw",
        "outputId": "7bd15794-cf76-43d9-d196-0053b90b37a5"
      },
      "execution_count": 1,
      "outputs": [
        {
          "output_type": "stream",
          "name": "stdout",
          "text": [
            "[4, 4, 3, 3, 4, 3, 4, 3]\n"
          ]
        }
      ]
    },
    {
      "cell_type": "markdown",
      "source": [
        "\n",
        "**32-write a python program to find the Strongest Neighbour (Input: 1 2 2 3 4 5\n",
        "Output: 2 2 3 4 5)\n"
      ],
      "metadata": {
        "id": "NhkYkEGEKh3z"
      }
    },
    {
      "cell_type": "code",
      "source": [
        "def strongest_neighbours(arr):\n",
        "    strongest = []\n",
        "    for i in range(len(arr) - 1):\n",
        "        strongest.append(max(arr[i], arr[i + 1]))\n",
        "    return strongest\n",
        "\n",
        "\n",
        "input_list = list(map(int, input(\"Enter numbers separated by spaces: \").split()))\n",
        "output = strongest_neighbours(input_list)\n",
        "print(\"Output:\", ' '.join(map(str, output)))"
      ],
      "metadata": {
        "colab": {
          "base_uri": "https://localhost:8080/"
        },
        "id": "hq-JyPBjKo1Y",
        "outputId": "9e6d4eee-a0b1-4fdb-d3aa-f8eef57e80b5"
      },
      "execution_count": 2,
      "outputs": [
        {
          "output_type": "stream",
          "name": "stdout",
          "text": [
            "Enter numbers separated by spaces: 1 2 2 3 4 5 \n",
            "Output: 2 2 3 4 5\n"
          ]
        }
      ]
    },
    {
      "cell_type": "markdown",
      "source": [
        "**33-write a Python Program to print all Possible Combinations from the three Digits (Input: [1, 2, 3] Output: 1 2 3 ## 1 3 2 ## 2 1 3 ## 2 3 1 ## 3 1 2 ## 3 2 1)"
      ],
      "metadata": {
        "id": "0sSAXcTYLcjC"
      }
    },
    {
      "cell_type": "markdown",
      "source": [
        "**34-write a Python program to find all the Combinations in the list with the given condition (Input: test_list = [1,2,3] Output: [1], [1, 2], [1, 2, 3], [1, 3] [2], [2, 3], [3])"
      ],
      "metadata": {
        "id": "TSEv8akCMhr9"
      }
    },
    {
      "cell_type": "markdown",
      "source": [
        "**35-write a Python program to get all unique combinations of two Lists (List_1 = [\"a\",\"b\"] List_2 = [1,2] Unique_combination = [[('a',1),('b',2)],[('a',2),('b',1)]] )\n"
      ],
      "metadata": {
        "id": "c6ClZiRgM0iD"
      }
    },
    {
      "cell_type": "markdown",
      "source": [
        "**36-Remove all the occurrences of an element from a list in Python (Input : 1 1 2 3 4 5 1 2 1\n",
        "\n",
        "**Output : 2 3 4 5 2)"
      ],
      "metadata": {
        "id": "L2Q8ydQyM6EC"
      }
    },
    {
      "cell_type": "code",
      "source": [
        "def remove_element(lst, element):\n",
        "    return [x for x in lst if x != element]\n",
        "\n",
        "input_list = list(map(int, input(\"Enter numbers separated by spaces: \").split()))\n",
        "element = int(input(\"Enter the element to remove: \"))\n",
        "\n",
        "result = remove_element(input_list, element)\n",
        "print(\"Output:\", result)"
      ],
      "metadata": {
        "colab": {
          "base_uri": "https://localhost:8080/"
        },
        "id": "kB3H9P6JMhNK",
        "outputId": "d7c2a4b9-c21d-4a5c-889f-faa183644a60"
      },
      "execution_count": 12,
      "outputs": [
        {
          "output_type": "stream",
          "name": "stdout",
          "text": [
            "Enter numbers separated by spaces: 1 1 2 3 4 5 1 2 1\n",
            "Enter the element to remove: 1\n",
            "Output: [2, 3, 4, 5, 2]\n"
          ]
        }
      ]
    },
    {
      "cell_type": "markdown",
      "source": [
        "**37-write a python program to Replace index elements with elements in Other List (The original list 1 is : [‘Gfg’, ‘is’, ‘best’] The original list 2 is : [0, 1, 2, 1, 0, 0, 0, 2, 1, 1, 2, 0] The lists after index elements replacements is : [‘Gfg’, ‘is’, ‘best’, ‘is’, ‘Gfg’, ‘Gfg’, ‘Gfg’, ‘best’, ‘is’, ‘is’, ‘best’, ‘Gfg’])"
      ],
      "metadata": {
        "id": "sbdM49HdPZc-"
      }
    },
    {
      "cell_type": "code",
      "source": [
        "def replace_indices(list1, list2):\n",
        "    result = [list1[index] for index in list2]\n",
        "    return result\n",
        "\n",
        "list1 = ['Gfg', 'is', 'best']\n",
        "list2 = [0, 1, 2, 1, 0, 0, 0, 2, 1, 1, 2, 0]\n",
        "print(\"The original list 1 is:\", list1)\n",
        "print(\"The original list 2 is:\", list2)\n",
        "\n",
        "result = replace_indices(list1, list2)\n",
        "print(\"The lists after index elements replacements is:\", result)"
      ],
      "metadata": {
        "colab": {
          "base_uri": "https://localhost:8080/"
        },
        "id": "XpiTCGaaPZD5",
        "outputId": "4f494096-e3a9-44b8-9b93-afaf91a00aba"
      },
      "execution_count": 15,
      "outputs": [
        {
          "output_type": "stream",
          "name": "stdout",
          "text": [
            "The original list 1 is: ['Gfg', 'is', 'best']\n",
            "The original list 2 is: [0, 1, 2, 1, 0, 0, 0, 2, 1, 1, 2, 0]\n",
            "The lists after index elements replacements is: ['Gfg', 'is', 'best', 'is', 'Gfg', 'Gfg', 'Gfg', 'best', 'is', 'is', 'best', 'Gfg']\n"
          ]
        }
      ]
    },
    {
      "cell_type": "markdown",
      "source": [
        "**38- write python program to Retain records with N occurrences of K(Input : test_list = [(4, 5, 5, 4), (5, 4, 3)], K = 5, N = 2 Output : [(4, 5, 5, 4)] Input : test_list = [(4, 5, 5, 4), (5, 4, 3)], K = 5, N = 3 Output : [] )"
      ],
      "metadata": {
        "id": "3uOSwV5dQ1Xw"
      }
    },
    {
      "cell_type": "code",
      "source": [
        "def records(test_list, K, N):\n",
        "\n",
        "    return [tup for tup in test_list if tup.count(K) == N]\n",
        "test_list = [(4, 5, 5, 4), (5, 4, 3)]\n",
        "K = 5\n",
        "N = 2\n",
        "print(\"Input: test_list =\", test_list, \", K =\", K, \", N =\", N)\n",
        "result = records(test_list, K, N)\n",
        "print(\"Output:\", result)"
      ],
      "metadata": {
        "colab": {
          "base_uri": "https://localhost:8080/"
        },
        "id": "3Yecc-t_Q08k",
        "outputId": "7c068ab9-dcd6-49e7-f117-76c82cb4d785"
      },
      "execution_count": 17,
      "outputs": [
        {
          "output_type": "stream",
          "name": "stdout",
          "text": [
            "Input: test_list = [(4, 5, 5, 4), (5, 4, 3)] , K = 5 , N = 2\n",
            "Output: [(4, 5, 5, 4)]\n"
          ]
        }
      ]
    },
    {
      "cell_type": "markdown",
      "source": [
        "**39-write a Python Program to Sort the list according to the column using lambda\n"
      ],
      "metadata": {
        "id": "r35sk_-cRj7q"
      }
    },
    {
      "cell_type": "code",
      "source": [
        "list = [(1, 2), (4, 1), (9, 10), (13, -3)]\n",
        "sorted_list = sorted(list, key=lambda x: x[1])\n",
        "print(sorted_list)\n",
        "\n",
        "def sort_by_column(matrix, col_index):\n",
        "\n",
        "    return sorted(matrix, key=lambda x: x[col_index])\n",
        "matrix = [\n",
        "    [1, 'b', 3],\n",
        "    [4, 'a', 2],\n",
        "    [2, 'c', 1]\n",
        "]\n",
        "col_index = 2\n",
        "\n",
        "print(\"Input Matrix:\", matrix)\n",
        "\n",
        "result = sort_by_column(matrix, col_index)\n",
        "print(\"Sorted Matrix \", col_index, \":\", result)"
      ],
      "metadata": {
        "colab": {
          "base_uri": "https://localhost:8080/"
        },
        "id": "zVPcztryRjcX",
        "outputId": "6225e6b4-58e8-46b7-c7f1-b3ab54328221"
      },
      "execution_count": 20,
      "outputs": [
        {
          "output_type": "stream",
          "name": "stdout",
          "text": [
            "[(13, -3), (4, 1), (1, 2), (9, 10)]\n",
            "Input Matrix: [[1, 'b', 3], [4, 'a', 2], [2, 'c', 1]]\n",
            "Sorted Matrix  2 : [[2, 'c', 1], [4, 'a', 2], [1, 'b', 3]]\n"
          ]
        }
      ]
    },
    {
      "cell_type": "markdown",
      "source": [
        "**41-write python program to Remove keys with Values Greater than K ( Including mixed values ) nput : test_dict = {‘Gfg’ : 3, ‘is’ : 7, ‘best’ : 10, ‘for’ : 6, ‘geeks’ : ‘CS’}, K = 7 Output : {‘Gfg’ : 3, ‘for’ : 6, ‘geeks’ : ‘CS’}"
      ],
      "metadata": {
        "id": "_ayOYwQFSb9M"
      }
    },
    {
      "cell_type": "code",
      "source": [
        "def remove_keys_greater_than_k(test_dict, K):\n",
        "    new_dict = {}\n",
        "    for key, value in test_dict.items():\n",
        "        if isinstance(value, (int, float)):\n",
        "            if value <= K:\n",
        "                new_dict[key] = value\n",
        "        else:\n",
        "            new_dict[key] = value\n",
        "    return new_dict\n",
        "\n",
        "test_dict = {'Gfg': 3, 'is': 7, 'best': 10, 'for': 6, 'geeks': 'CS'}\n",
        "K = 7\n",
        "\n",
        "output_dict = remove_keys_greater_than_k(test_dict, K)\n",
        "\n",
        "print(\"Original Dictionary:\", test_dict)\n",
        "print(\"Filtered Dictionary:\", output_dict)"
      ],
      "metadata": {
        "colab": {
          "base_uri": "https://localhost:8080/"
        },
        "id": "4zKlfruaSmi_",
        "outputId": "f4944916-6167-414c-8e33-57d3aa3180f4"
      },
      "execution_count": 21,
      "outputs": [
        {
          "output_type": "stream",
          "name": "stdout",
          "text": [
            "Original Dictionary: {'Gfg': 3, 'is': 7, 'best': 10, 'for': 6, 'geeks': 'CS'}\n",
            "Filtered Dictionary: {'Gfg': 3, 'is': 7, 'for': 6, 'geeks': 'CS'}\n"
          ]
        }
      ]
    },
    {
      "cell_type": "markdown",
      "source": [
        "**42-Write a Python program to concatenate the following dictionaries to create a new one\n",
        "\n",
        "Sample Dictionary : dic1={1:10, 2:20} dic2={3:30, 4:40} dic3={5:50,6:60} Expected Result : {1: 10, 2: 20, 3: 30, 4: 40, 5: 50, 6: 60}"
      ],
      "metadata": {
        "id": "IBXwdmKgS24E"
      }
    },
    {
      "cell_type": "markdown",
      "source": [
        "**43-Write a Python program to iterate over dictionaries using for loops"
      ],
      "metadata": {
        "id": "7EpIrRqGS9J4"
      }
    },
    {
      "cell_type": "markdown",
      "source": [
        "**45-Write a Python program to get the maximum and minimum values of a dictionary values"
      ],
      "metadata": {
        "id": "fGwDv7XaU1oB"
      }
    },
    {
      "cell_type": "code",
      "source": [
        "def max_min(dictionary):\n",
        "\n",
        "    if not dictionary:\n",
        "        return None, None\n",
        "\n",
        "    values = dictionary.values()\n",
        "    max_value = max(values)\n",
        "    min_value = min(values)\n",
        "\n",
        "    return max_value, min_value\n",
        "\n",
        "sample_dict = {\n",
        "    'a': 10,\n",
        "    'b': 30,\n",
        "    'c': 5,\n",
        "    'd': 20\n",
        "}\n",
        "\n",
        "print(\"Input Dictionary:\", sample_dict)\n",
        "max_val, min_val =max_min(sample_dict)\n",
        "\n",
        "print(\"Maximum Value:\", max_val)\n",
        "print(\"Minimum Value:\", min_val)"
      ],
      "metadata": {
        "colab": {
          "base_uri": "https://localhost:8080/"
        },
        "id": "TQtzb4hcScPf",
        "outputId": "483e7f66-0360-4b8c-ea89-c3cfec17f5e6"
      },
      "execution_count": 26,
      "outputs": [
        {
          "output_type": "stream",
          "name": "stdout",
          "text": [
            "Input Dictionary: {'a': 10, 'b': 30, 'c': 5, 'd': 20}\n",
            "Maximum Value: 30\n",
            "Minimum Value: 5\n"
          ]
        }
      ]
    },
    {
      "cell_type": "markdown",
      "source": [
        "**46- Write a Python program to drop empty items from a given dictionary. Original Dictionary: {'c1': 'Red', 'c2': 'Green', 'c3': None} New Dictionary after dropping empty items: {'c1': 'Red', 'c2': 'Green'}"
      ],
      "metadata": {
        "id": "NlfMmLiYVp5L"
      }
    },
    {
      "cell_type": "code",
      "source": [
        "def remove_empty_items(dictionary):\n",
        "    new_dict = {}\n",
        "    for key, value in dictionary.items():\n",
        "        if value is not None:\n",
        "            new_dict[key] = value\n",
        "    return new_dict\n",
        "\n",
        "original = {'a': 1, 'b': None, 'c': 3, 'd': None, 'e': 5}\n",
        "\n",
        "\n",
        "print(\"Original Dictionary:\", original)\n",
        "new_dict = remove_empty_items(original)\n",
        "print(\"New Dictionary after dropping empty items:\", new_dict)"
      ],
      "metadata": {
        "colab": {
          "base_uri": "https://localhost:8080/"
        },
        "id": "hjgG6E05Vukm",
        "outputId": "6b9cd476-f12f-46c2-d1be-ab94f704fcca"
      },
      "execution_count": 33,
      "outputs": [
        {
          "output_type": "stream",
          "name": "stdout",
          "text": [
            "Original Dictionary: {'a': 1, 'b': None, 'c': 3, 'd': None, 'e': 5}\n",
            "New Dictionary after dropping empty items: {'a': 1, 'c': 3, 'e': 5}\n"
          ]
        }
      ]
    },
    {
      "cell_type": "markdown",
      "source": [
        "**47-Write a Python program to create a tuple of numbers and print one item"
      ],
      "metadata": {
        "id": "fGCEnP7BWRRU"
      }
    },
    {
      "cell_type": "code",
      "source": [
        "numbers = input(\"Enter numbers separated by spaces: \").split()\n",
        "numbers_tuple = tuple(int(num) for num in numbers)\n",
        "print(\"Tuple of numbers:\", numbers_tuple)\n",
        "index = int(input(\"Enter the index of the item to print : \"))\n",
        "\n",
        "if 0 <= index < len(numbers_tuple):\n",
        "    print(\"Item at index\", index, \":\", numbers_tuple[index])\n",
        "else:\n",
        "    print(\"Error: Index out of range\")"
      ],
      "metadata": {
        "colab": {
          "base_uri": "https://localhost:8080/"
        },
        "id": "PB1J4I2MXE-W",
        "outputId": "6a5d3fd4-7460-4f92-b7be-b655d926a87e"
      },
      "execution_count": 41,
      "outputs": [
        {
          "output_type": "stream",
          "name": "stdout",
          "text": [
            "Enter numbers separated by spaces: 1 2 3 4 5 6 7 \n",
            "Tuple of numbers: (1, 2, 3, 4, 5, 6, 7)\n",
            "Enter the index of the item to print : 3\n",
            "Item at index 3 : 4\n"
          ]
        }
      ]
    },
    {
      "cell_type": "markdown",
      "source": [
        "**48-Write a Python program to unpack a tuple into several variables"
      ],
      "metadata": {
        "id": "LhKD4HpnXiOg"
      }
    },
    {
      "cell_type": "code",
      "source": [
        "person_info = (\"basmala\", 21, \"cairo\", \"Engineer\")\n",
        "\n",
        "name, age, city, profession = person_info\n",
        "print(\"Name:\", name)\n",
        "print(\"Age:\", age)\n",
        "print(\"City:\", city)\n",
        "print(\"Profession:\", profession)"
      ],
      "metadata": {
        "colab": {
          "base_uri": "https://localhost:8080/"
        },
        "id": "eK99-2dkXh__",
        "outputId": "203e3f48-338c-4745-ad75-c71a6edb083d"
      },
      "execution_count": 1,
      "outputs": [
        {
          "output_type": "stream",
          "name": "stdout",
          "text": [
            "Name: basmala\n",
            "Age: 21\n",
            "City: cairo\n",
            "Profession: Engineer\n"
          ]
        }
      ]
    },
    {
      "cell_type": "markdown",
      "source": [
        "**49-Write a Python program to add an item to a tuple"
      ],
      "metadata": {
        "id": "enEyGxCv2_xJ"
      }
    },
    {
      "cell_type": "code",
      "source": [
        "my_tuple = (1, 2, 3)\n",
        "print(\"Original tuple:\", my_tuple)\n",
        "\n",
        "new_item = 4\n",
        "my_tuple = my_tuple + (new_item,)\n",
        "print(\"After adding one item:\", my_tuple)"
      ],
      "metadata": {
        "colab": {
          "base_uri": "https://localhost:8080/"
        },
        "id": "-OUIPv0J2_8Q",
        "outputId": "f3eadbec-100a-486d-e0cf-1868d4b50a8f"
      },
      "execution_count": 2,
      "outputs": [
        {
          "output_type": "stream",
          "name": "stdout",
          "text": [
            "Original tuple: (1, 2, 3)\n",
            "After adding one item: (1, 2, 3, 4)\n"
          ]
        }
      ]
    },
    {
      "cell_type": "markdown",
      "source": [
        "**50-Write a Python program to convert a tuple to a string"
      ],
      "metadata": {
        "id": "y_NsWYjC3gSU"
      }
    },
    {
      "cell_type": "code",
      "source": [
        "tuple_of_strings = ('Basmala', 'khaled', 'saeed', 'wehady')\n",
        "result = ' '.join(tuple_of_strings)\n",
        "print(result)\n",
        "\n",
        "\n",
        "result2 = ', '.join(tuple_of_strings)\n",
        "print(result2)"
      ],
      "metadata": {
        "colab": {
          "base_uri": "https://localhost:8080/"
        },
        "id": "5qV2-Do03fr2",
        "outputId": "bdc01160-f384-42b2-a817-848f6029abe8"
      },
      "execution_count": 3,
      "outputs": [
        {
          "output_type": "stream",
          "name": "stdout",
          "text": [
            "Basmala khaled saeed wehady\n",
            "Basmala, khaled, saeed, wehady\n"
          ]
        }
      ]
    },
    {
      "cell_type": "markdown",
      "source": [
        "Write a Python program to convert a list to a tuple"
      ],
      "metadata": {
        "id": "qpNNGk1w4rPo"
      }
    },
    {
      "cell_type": "code",
      "source": [
        "list = [1, 2, 3, 4, 5]\n",
        "tuple = tuple(list)\n",
        "print(tuple)"
      ],
      "metadata": {
        "colab": {
          "base_uri": "https://localhost:8080/"
        },
        "id": "A9IzX7KF4r31",
        "outputId": "223c0a35-0285-47e0-eb6a-36c3f3438e67"
      },
      "execution_count": 4,
      "outputs": [
        {
          "output_type": "stream",
          "name": "stdout",
          "text": [
            "(1, 2, 3, 4, 5)\n"
          ]
        }
      ]
    },
    {
      "cell_type": "markdown",
      "source": [
        "\n",
        "**52-Write a Python program to reverse a tuple"
      ],
      "metadata": {
        "id": "Sf2wcnHWRjIt"
      }
    },
    {
      "cell_type": "code",
      "source": [
        "tuple = (1, 2, 3, 4, 5)\n",
        "reversed_tuple = tuple[::-1]\n",
        "print(reversed_tuple)"
      ],
      "metadata": {
        "colab": {
          "base_uri": "https://localhost:8080/"
        },
        "id": "a4mJPd6Z7k1J",
        "outputId": "abd126f5-6ec9-4c18-e7f3-044524177acb"
      },
      "execution_count": 5,
      "outputs": [
        {
          "output_type": "stream",
          "name": "stdout",
          "text": [
            "(5, 4, 3, 2, 1)\n"
          ]
        }
      ]
    },
    {
      "cell_type": "markdown",
      "source": [
        "\n",
        "**53-Write a Python program to replace the last value of tuples in a list. Sample list: [(10, 20, 40), (40, 50, 60), (70, 80, 90)] Expected Output: [(10, 20, 100), (40, 50, 100), (70, 80, 100)]"
      ],
      "metadata": {
        "id": "61qazo7v7wrF"
      }
    },
    {
      "cell_type": "code",
      "source": [
        "list = [(10, 20, 40), (40, 50, 60), (70, 80, 90)]\n",
        "new_value = 100\n",
        "new_list = []\n",
        "for tuple in list:\n",
        "    new_tuple = tuple[:-1] + (new_value,)\n",
        "    new_list.append(new_tuple)\n",
        "print(new_list)"
      ],
      "metadata": {
        "colab": {
          "base_uri": "https://localhost:8080/"
        },
        "id": "OGQoL4yr70FQ",
        "outputId": "1a1d96ab-4bb6-4c94-f70b-12b73712efb7"
      },
      "execution_count": 8,
      "outputs": [
        {
          "output_type": "stream",
          "name": "stdout",
          "text": [
            "[(10, 20, 100), (40, 50, 100), (70, 80, 100)]\n"
          ]
        }
      ]
    },
    {
      "cell_type": "markdown",
      "source": [
        "**54-Write a Python program to convert a given string list to a tuple\n",
        "Original string: python 3.0\n",
        "<class 'str'>\n",
        "Convert the said string to a tuple:\n",
        "('p', 'y', 't', 'h', 'o', 'n', '3', '.', '0')"
      ],
      "metadata": {
        "id": "676Cf3MM7-pq"
      }
    },
    {
      "cell_type": "markdown",
      "source": [
        "**55-Write a Python program to calculate the average value of the numbers in a given tuple of tuples\n"
      ],
      "metadata": {
        "id": "FmKEJmAT-bCj"
      }
    },
    {
      "cell_type": "code",
      "source": [
        "tuple = (1, 2, 3,4, 5)\n",
        "total = 0\n",
        "count = 0\n",
        "for num in tuple:\n",
        "        total += num\n",
        "        count += 1\n",
        "average = total / count\n",
        "print(average)"
      ],
      "metadata": {
        "colab": {
          "base_uri": "https://localhost:8080/"
        },
        "id": "b-cLAzxX-elo",
        "outputId": "c43ff1d3-4d29-435c-b658-c9bf97f02478"
      },
      "execution_count": 26,
      "outputs": [
        {
          "output_type": "stream",
          "name": "stdout",
          "text": [
            "3.0\n"
          ]
        }
      ]
    },
    {
      "cell_type": "markdown",
      "source": [
        "**56-Write a Python program to add member(s) to a set.\n"
      ],
      "metadata": {
        "id": "KjhL3-xa_Ns-"
      }
    },
    {
      "cell_type": "code",
      "source": [
        "set= {1, 2, 3}\n",
        "set.add(4)\n",
        "print(set)"
      ],
      "metadata": {
        "colab": {
          "base_uri": "https://localhost:8080/"
        },
        "id": "jU-g65BK_TG4",
        "outputId": "80433ca9-bf6a-4d75-969d-fcfdc2b6f367"
      },
      "execution_count": 27,
      "outputs": [
        {
          "output_type": "stream",
          "name": "stdout",
          "text": [
            "{1, 2, 3, 4}\n"
          ]
        }
      ]
    },
    {
      "cell_type": "markdown",
      "source": [
        "**57-Write a Python program to remove an item from a set if it is present in the set."
      ],
      "metadata": {
        "id": "VkgTPSKq_ffK"
      }
    },
    {
      "cell_type": "code",
      "source": [
        "set = {1, 2, 3, 4, 5}\n",
        "item = 3\n",
        "if item in set:\n",
        "    set.remove(item)\n",
        "print(set)"
      ],
      "metadata": {
        "colab": {
          "base_uri": "https://localhost:8080/"
        },
        "id": "fSzJYul__ehq",
        "outputId": "d4c77460-ec3b-43a1-eafc-63e1d8e40348"
      },
      "execution_count": 28,
      "outputs": [
        {
          "output_type": "stream",
          "name": "stdout",
          "text": [
            "{1, 2, 4, 5}\n"
          ]
        }
      ]
    },
    {
      "cell_type": "markdown",
      "source": [
        "**58-Write a Python program to create an intersection,union,difference and symmetric difference of sets\n"
      ],
      "metadata": {
        "id": "aOETWXrr_mrI"
      }
    },
    {
      "cell_type": "code",
      "source": [
        "set = {1, 2, 3, 4, 5}\n",
        "set2 = {4, 5, 6, 7, 8}\n",
        "intersection = set.intersection(set2)\n",
        "union = set.union(set2)\n",
        "difference = set.difference(set2)\n",
        "print(intersection)\n",
        "print(union)\n",
        "print(difference)"
      ],
      "metadata": {
        "colab": {
          "base_uri": "https://localhost:8080/"
        },
        "id": "p92AickG_tW8",
        "outputId": "0378f74e-d009-4904-f55b-245c6b63d422"
      },
      "execution_count": 29,
      "outputs": [
        {
          "output_type": "stream",
          "name": "stdout",
          "text": [
            "{4, 5}\n",
            "{1, 2, 3, 4, 5, 6, 7, 8}\n",
            "{1, 2, 3}\n"
          ]
        }
      ]
    },
    {
      "cell_type": "markdown",
      "source": [
        "\n",
        "**59-Write a Python program to find the maximum and minimum values in a set\n"
      ],
      "metadata": {
        "id": "mfwfvgq6_1_w"
      }
    },
    {
      "cell_type": "code",
      "source": [
        "set= {1, 2, 3, 4, 5}\n",
        "maximum = max(set)\n",
        "minimum = min(set)\n",
        "print(maximum)\n",
        "print(minimum)"
      ],
      "metadata": {
        "colab": {
          "base_uri": "https://localhost:8080/"
        },
        "id": "fbib62kTAKRJ",
        "outputId": "e45a0aac-66bd-4f86-a7b4-d155488e9355"
      },
      "execution_count": 30,
      "outputs": [
        {
          "output_type": "stream",
          "name": "stdout",
          "text": [
            "5\n",
            "1\n"
          ]
        }
      ]
    },
    {
      "cell_type": "markdown",
      "source": [
        "**60- Write a Python program that finds all pairs of elements in a list whose sum is equal to a given value."
      ],
      "metadata": {
        "id": "Y-KtMsfSAOF8"
      }
    },
    {
      "cell_type": "code",
      "source": [
        "set= {1, 2, 3, 4, 5}\n",
        "sum = 5\n",
        "pairs = []\n",
        "for num1 in set:\n",
        "    for num2 in set:\n",
        "        if num1 + num2 == sum:\n",
        "            pairs.append((num1, num2))\n",
        "    print(pairs)"
      ],
      "metadata": {
        "colab": {
          "base_uri": "https://localhost:8080/"
        },
        "id": "wJCPP4qVATzX",
        "outputId": "4cd3d20c-1e44-4f38-dc6f-f91dbdae1969"
      },
      "execution_count": 32,
      "outputs": [
        {
          "output_type": "stream",
          "name": "stdout",
          "text": [
            "[(1, 4)]\n",
            "[(1, 4), (2, 3)]\n",
            "[(1, 4), (2, 3), (3, 2)]\n",
            "[(1, 4), (2, 3), (3, 2), (4, 1)]\n",
            "[(1, 4), (2, 3), (3, 2), (4, 1)]\n"
          ]
        }
      ]
    }
  ]
}