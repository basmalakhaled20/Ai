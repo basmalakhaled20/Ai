{
 "cells": [
  {
   "cell_type": "code",
   "execution_count": 1,
   "id": "9c06f651-40ee-478c-a526-faef4856a0c0",
   "metadata": {},
   "outputs": [],
   "source": [
    "import re"
   ]
  },
  {
   "cell_type": "code",
   "execution_count": 2,
   "id": "b5d86b18-0297-4c2c-9e84-72866ab01c23",
   "metadata": {},
   "outputs": [],
   "source": [
    "def detect_separator(line):\n",
    "    if ',' in line: return ','\n",
    "    if '-' in line: return '-'\n",
    "    return ' '"
   ]
  },
  {
   "cell_type": "code",
   "execution_count": 3,
   "id": "c16e1435-56cd-4ed9-88a9-db44c345d8a7",
   "metadata": {},
   "outputs": [],
   "source": [
    "def is_email(field):\n",
    "    return '@' in field and '.' in field"
   ]
  },
  {
   "cell_type": "code",
   "execution_count": 4,
   "id": "3a2aa7fd-d8c8-40eb-a158-d281507fb54e",
   "metadata": {},
   "outputs": [],
   "source": [
    "def is_phone(field):\n",
    "    return field.replace('-', '').isdigit() and 10 <= len(field.replace('-', '')) <= 12"
   ]
  },
  {
   "cell_type": "code",
   "execution_count": 5,
   "id": "e5a9584c-6ed0-4a33-8119-0c0541a75484",
   "metadata": {},
   "outputs": [
    {
     "name": "stdout",
     "output_type": "stream",
     "text": [
      "Names: ['Hafez', 'Khaled', 'ahmed', 'elsaeed', 'heba samer', 'nour Khaled', 'marwanabil', 'abdelrahman']\n",
      "Numbers: ['0102345678', '01158906686', '01040154505', '01122334405', '0122345679', '01158906686', '01000212343', '01158776686']\n",
      "Emails: ['ahmed@gmail.com', 'wehady@gmail.com', 'abobakr@gmail.com', 'omar@gmail.com', 'ahmed@gmail.com', 'mohamed@gmail.com', 'elmasry@gmail.com', 'badway@gmail.com']\n"
     ]
    }
   ],
   "source": [
    "names = []\n",
    "numbers = []\n",
    "emails = []\n",
    "\n",
    "with open('C:/Desktop/task 12.txt', 'r') as file:\n",
    "    for line in file:\n",
    "        if not line.strip(): continue\n",
    "        separator = detect_separator(line)\n",
    "        parts = line.strip().split(separator)\n",
    "        parts = [part.strip() for part in parts]\n",
    "        name, phone, email = None, None, None\n",
    "        for part in parts:\n",
    "            if is_email(part): email = part\n",
    "            elif is_phone(part): phone = part\n",
    "            else: name = part\n",
    "        if name: names.append(name)\n",
    "        if phone: numbers.append(phone)\n",
    "        if email: emails.append(email)\n",
    "\n",
    "print(\"Names:\", names)\n",
    "print(\"Numbers:\", numbers)\n",
    "print(\"Emails:\", emails)"
   ]
  },
  {
   "cell_type": "code",
   "execution_count": null,
   "id": "9a453272-2f05-4717-9e2a-154d90d2a4dc",
   "metadata": {},
   "outputs": [],
   "source": []
  },
  {
   "cell_type": "code",
   "execution_count": null,
   "id": "7874f707-dab4-4701-a109-ea0ad286b53e",
   "metadata": {},
   "outputs": [],
   "source": []
  }
 ],
 "metadata": {
  "kernelspec": {
   "display_name": "Python 3 (ipykernel)",
   "language": "python",
   "name": "python3"
  },
  "language_info": {
   "codemirror_mode": {
    "name": "ipython",
    "version": 3
   },
   "file_extension": ".py",
   "mimetype": "text/x-python",
   "name": "python",
   "nbconvert_exporter": "python",
   "pygments_lexer": "ipython3",
   "version": "3.12.4"
  }
 },
 "nbformat": 4,
 "nbformat_minor": 5
}
